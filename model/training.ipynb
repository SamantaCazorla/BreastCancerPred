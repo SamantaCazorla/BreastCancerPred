{
 "cells": [
  {
   "cell_type": "code",
   "execution_count": 5,
   "id": "87f10277-b4af-4093-bfb5-7535f95284b9",
   "metadata": {},
   "outputs": [],
   "source": [
    "import pandas as pd\n",
    "from sklearn.preprocessing import StandardScaler\n",
    "from sklearn.model_selection import train_test_split\n",
    "from sklearn.linear_model import LogisticRegression\n",
    "from sklearn.metrics import accuracy_score, classification_report\n",
    "import pickle"
   ]
  },
  {
   "cell_type": "code",
   "execution_count": 11,
   "id": "0b26af2f-4c02-4fa9-8014-fe2bf50ab801",
   "metadata": {},
   "outputs": [
    {
     "name": "stdout",
     "output_type": "stream",
     "text": [
      "Accuracy of our model:  0.9824561403508771\n",
      "Classification report: \n",
      "               precision    recall  f1-score   support\n",
      "\n",
      "           0       0.99      0.99      0.99        71\n",
      "           1       0.98      0.98      0.98        43\n",
      "\n",
      "    accuracy                           0.98       114\n",
      "   macro avg       0.98      0.98      0.98       114\n",
      "weighted avg       0.98      0.98      0.98       114\n",
      "\n"
     ]
    }
   ],
   "source": [
    "def create_model(data):\n",
    "    X = data.drop(['diagnosis'], axis=1)\n",
    "    y = data['diagnosis']\n",
    "\n",
    "    # Scale the data\n",
    "    scaler = StandardScaler()\n",
    "    X = scaler.fit_transform(X)\n",
    "\n",
    "    # Split the data\n",
    "    X_train, X_test, y_train, y_test = train_test_split(X, y, test_size=0.2, random_state = 42)\n",
    "\n",
    "    # Train the model\n",
    "    model = LogisticRegression()\n",
    "    model.fit(X_train, y_train)\n",
    "\n",
    "    # test the model\n",
    "    y_pred = model.predict(X_test)\n",
    "    print('Accuracy of our model: ', accuracy_score(y_test, y_pred))\n",
    "    print('Classification report: \\n', classification_report(y_test, y_pred))\n",
    "\n",
    "    return model, scaler\n",
    "\n",
    "\n",
    "def get_clean_data():\n",
    "    data = pd.read_csv(\"data/data.csv\")\n",
    "    data = data.drop(['Unnamed: 32', 'id',\n",
    "                     \"radius_mean\", \"perimeter_mean\", \"compactness_mean\", \"concave points_mean\", \n",
    "                       \"radius_se\", \"perimeter_se\", \"compactness_se\", \"concave points_se\",\n",
    "                       \"radius_worst\",\"perimeter_worst\", \"compactness_worst\", \"concave points_worst\"] ,axis = 1)\n",
    "    data['diagnosis'] = data['diagnosis'].map({'M': 1, 'B': 0})\n",
    "    return data\n",
    "\n",
    "\n",
    "def main():\n",
    "    data = get_clean_data()\n",
    "\n",
    "    model, scaler = create_model(data)\n",
    "\n",
    "    with open('model/model.pkl', 'wb') as f:\n",
    "        pickle.dump(model, f)\n",
    "    with open('model/scaler.pkl', 'wb') as f:\n",
    "        pickle.dump(scaler, f)\n",
    "    \n",
    "    \n",
    "if __name__ == '__main__':\n",
    "    main()\n",
    "\n"
   ]
  },
  {
   "cell_type": "code",
   "execution_count": null,
   "id": "1a21d8a6-c55d-4391-86c2-85b15d49cbbe",
   "metadata": {},
   "outputs": [],
   "source": []
  }
 ],
 "metadata": {
  "kernelspec": {
   "display_name": "Python 3 (ipykernel)",
   "language": "python",
   "name": "python3"
  },
  "language_info": {
   "codemirror_mode": {
    "name": "ipython",
    "version": 3
   },
   "file_extension": ".py",
   "mimetype": "text/x-python",
   "name": "python",
   "nbconvert_exporter": "python",
   "pygments_lexer": "ipython3",
   "version": "3.12.4"
  }
 },
 "nbformat": 4,
 "nbformat_minor": 5
}
